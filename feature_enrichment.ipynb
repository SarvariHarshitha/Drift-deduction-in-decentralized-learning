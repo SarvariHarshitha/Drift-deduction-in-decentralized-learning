{
 "cells": [
  {
   "cell_type": "code",
   "execution_count": 1,
   "id": "997f5cdd",
   "metadata": {},
   "outputs": [],
   "source": [
    "import sklearn\n",
    "import pandas as pd\n",
    "import numpy as np\n",
    "import matplotlib.pyplot as plt\n",
    "import seaborn as sns\n",
    "from sklearn.model_selection import train_test_split\n",
    "from sklearn.metrics import classification_report,confusion_matrix,accuracy_score, precision_score, recall_score, f1_score\n",
    "import time\n",
    "\n",
    "#import river, an online learning library\n",
    "from sklearn.tree import DecisionTreeClassifier\n",
    "from sklearn.feature_selection import RFE\n",
    "from river import feature_selection\n",
    "from river import stats\n",
    "from river import imblearn\n",
    "from river import preprocessing\n",
    "from river import evaluate\n",
    "from river import metrics\n",
    "from river import stream\n",
    "from river import tree,neighbors,naive_bayes,ensemble,linear_model\n",
    "from river import drift\n",
    "from river import forest\n",
    "from river.drift import ADWIN,KSWIN,PageHinkley\n",
    "from river.drift.binary import DDM,EDDM,HDDM_A,HDDM_W"
   ]
  },
  {
   "cell_type": "code",
   "execution_count": 2,
   "id": "a389cbef",
   "metadata": {},
   "outputs": [
    {
     "name": "stdout",
     "output_type": "stream",
     "text": [
      "        Flow_ID  Src_IP  Src_Port  Dst_IP  Dst_Port  Protocol  Timestamp  \\\n",
      "0         12446   25883     10000     203     10101        17       3496   \n",
      "1         22760   34617      2179     200       554         6       3664   \n",
      "2         12691   25886     52727     200      9020         6       2082   \n",
      "3         12704   25886     52964     200      9020         6        791   \n",
      "4           611   25881     36763     317      1900        17       1040   \n",
      "...         ...     ...       ...     ...       ...       ...        ...   \n",
      "625778    62081   25889     56112     233      8043        17       3443   \n",
      "625779    18760   30623      4570     200       554         6       3637   \n",
      "625780    12695   25886     52739     200      9020         6       2285   \n",
      "625781    12682   25883      9020     203     49784         6       2872   \n",
      "625782    12446   25883     10000     203     10101        17       3453   \n",
      "\n",
      "        Flow_Duration  Tot_Fwd_Pkts  Tot_Bwd_Pkts  ...  Active_Std  \\\n",
      "0                  75             1             1  ...         0.0   \n",
      "1                5310             1             2  ...         0.0   \n",
      "2                 141             0             3  ...         0.0   \n",
      "3                 151             0             2  ...         0.0   \n",
      "4                 153             2             1  ...         0.0   \n",
      "...               ...           ...           ...  ...         ...   \n",
      "625778            277             1             1  ...         0.0   \n",
      "625779           1658             0             2  ...         0.0   \n",
      "625780             77             1             1  ...         0.0   \n",
      "625781            240             2             1  ...         0.0   \n",
      "625782            198             2             1  ...         0.0   \n",
      "\n",
      "        Active_Max  Active_Min  Idle_Mean     Idle_Std  Idle_Max  Idle_Min  \\\n",
      "0              0.0         0.0       75.0     0.000000      75.0      75.0   \n",
      "1              0.0         0.0     2655.0  2261.327486    4254.0    1056.0   \n",
      "2              0.0         0.0       70.5     0.707107      71.0      70.0   \n",
      "3              0.0         0.0      151.0     0.000000     151.0     151.0   \n",
      "4              0.0         0.0       76.5     0.707107      77.0      76.0   \n",
      "...            ...         ...        ...          ...       ...       ...   \n",
      "625778         0.0         0.0      277.0     0.000000     277.0     277.0   \n",
      "625779         0.0         0.0     1658.0     0.000000    1658.0    1658.0   \n",
      "625780         0.0         0.0       77.0     0.000000      77.0      77.0   \n",
      "625781         0.0         0.0      120.0     7.071068     125.0     115.0   \n",
      "625782         0.0         0.0       99.0    32.526912     122.0      76.0   \n",
      "\n",
      "        Label  Cat  Sub_Cat  \n",
      "0           0    2        2  \n",
      "1           0    0        0  \n",
      "2           0    4        8  \n",
      "3           0    2        4  \n",
      "4           0    2        4  \n",
      "...       ...  ...      ...  \n",
      "625778      0    2        5  \n",
      "625779      0    0        0  \n",
      "625780      0    4        8  \n",
      "625781      1    3        6  \n",
      "625782      0    2        5  \n",
      "\n",
      "[625783 rows x 86 columns]\n"
     ]
    }
   ],
   "source": [
    "import pandas as pd\n",
    "from sklearn.preprocessing import LabelEncoder, MinMaxScaler\n",
    "\n",
    "# Read the CSV file into a DataFrame\n",
    "df = pd.read_csv(\"C:\\\\Users\\\\jaswa\\\\Downloads\\\\IoT Network Intrusion Dataset-20230802T155717Z-001\\\\IoT Network Intrusion Dataset\\\\IoT Network Intrusion Dataset.csv\")\n",
    "\n",
    "# Encode all object columns using LabelEncoder\n",
    "label_encoder = LabelEncoder()\n",
    "\n",
    "for column in df.select_dtypes(include=['object']).columns:\n",
    "    df[column] = label_encoder.fit_transform(df[column])\n",
    "\n",
    "print(df)"
   ]
  },
  {
   "cell_type": "code",
   "execution_count": 3,
   "id": "bb72a61c",
   "metadata": {},
   "outputs": [],
   "source": [
    "ranking = np.array([84, 83, 82, 81, 80, 79, 78, 77, 76, 75, 68, 66, 64, 56, 55, 54, 49, 41, 39, 38, 37, 36, 30, 29, 27, 21, 20, 19, 18, 16, 14, 13, 12, 10, 8, 7, 6, 5, 3, 2, 1, 0])  # Replace this with your actual ranking list"
   ]
  },
  {
   "cell_type": "code",
   "execution_count": 23,
   "id": "08f86337",
   "metadata": {},
   "outputs": [],
   "source": [
    "df = df.head(int(len(df)*(10/100)))\n",
    "X = df.drop(['Label'],axis=1)\n",
    "y = df['Label']\n",
    "X_train, X_test, y_train, y_test = train_test_split(X,y, train_size=0.1, test_size=0.9, shuffle=False,random_state = 0)"
   ]
  },
  {
   "cell_type": "code",
   "execution_count": 24,
   "id": "e3aba720",
   "metadata": {},
   "outputs": [],
   "source": [
    "def adaptive_learning(X_train, y_train, X_test, y_test, ranking):\n",
    "    metric = metrics.Accuracy()  # Use accuracy as the metric\n",
    "    d = 0\n",
    "    c = 0  # counts no of drifts\n",
    "    i = 0  # count the number of evaluated data points\n",
    "    t = []  # record the number of evaluated data points\n",
    "    m = []  # record the real-time accuracy\n",
    "    yt = []  # record all the true labels of the test set\n",
    "    yp = []  # record all the predicted labels of the test set\n",
    "\n",
    "    eddm = EDDM()\n",
    "\n",
    "    num_features = 10\n",
    "\n",
    "    while True: \n",
    "        \n",
    "        b = True\n",
    "        selected_features = ranking[:num_features]\n",
    "\n",
    "        # Modify your model to use selected features\n",
    "        selected_model = tree.ExtremelyFastDecisionTreeClassifier()\n",
    "\n",
    "        selected_X_train = X_train.iloc[:, selected_features]\n",
    "        selected_X_test = X_test.iloc[:, selected_features]\n",
    "\n",
    "        # Learn the training set using the selected features\n",
    "        for xi1, yi1 in stream.iter_pandas(selected_X_train, y_train):\n",
    "            selected_model.learn_one(xi1, yi1)\n",
    "\n",
    "        # Predict and detect drift using selected features\n",
    "        for xi, yi in stream.iter_pandas(selected_X_test, y_test):\n",
    "            y_pred = selected_model.predict_one(xi)\n",
    "            selected_model.learn_one(xi, yi)\n",
    "\n",
    "            metric = metric.update(yi, y_pred)\n",
    "\n",
    "            val = 0\n",
    "            if yi != y_pred:\n",
    "                val = 1\n",
    "            eddm.update(float(val))\n",
    "            if eddm.drift_detected:\n",
    "                c = c + 1\n",
    "                print(\"Change detected at index\", i)\n",
    "            if c == 3 and num_features < 40:\n",
    "                c = 0\n",
    "                num_features += 10\n",
    "                b = False\n",
    "                break\n",
    "\n",
    "            t.append(i)\n",
    "            m.append(metric.get() * 100)\n",
    "            yt.append(yi)\n",
    "            yp.append(y_pred)\n",
    "            i += 1\n",
    "            \n",
    "        if b:\n",
    "            break\n",
    "        else:\n",
    "            continue\n",
    "\n",
    "    # Print evaluation metrics and return values\n",
    "    print(\"Accuracy:\", round(accuracy_score(yt, yp), 4) * 100, \"%\")\n",
    "    print(\"Precision:\", round(precision_score(yt, yp, zero_division=1), 4) * 100, \"%\")\n",
    "    print(\"Recall:\", round(recall_score(yt, yp, zero_division=1), 4) * 100, \"%\")\n",
    "    print(\"F1-score:\", round(f1_score(yt, yp, zero_division=1), 4) * 100, \"%\")\n",
    "    return t, m, c"
   ]
  },
  {
   "cell_type": "code",
   "execution_count": 25,
   "id": "f1e6ab75",
   "metadata": {},
   "outputs": [],
   "source": [
    "def acc_fig(t, m, name):\n",
    "    plt.rcParams.update({'font.size': 15})\n",
    "    plt.figure(1,figsize=(10,6)) \n",
    "    sns.set_style(\"darkgrid\")\n",
    "    plt.clf() \n",
    "    plt.plot(t,m,'-b',label='Avg Accuracy: %.2f%%'%(m[-1]))\n",
    "\n",
    "    plt.legend(loc='best')\n",
    "    plt.title(name+' on IoTID20 dataset', fontsize=15)\n",
    "    plt.xlabel('Number of samples')\n",
    "    plt.ylabel('Accuracy (%)')\n",
    "\n",
    "    plt.draw()"
   ]
  },
  {
   "cell_type": "code",
   "execution_count": 26,
   "id": "28dd3ffd",
   "metadata": {},
   "outputs": [
    {
     "name": "stdout",
     "output_type": "stream",
     "text": [
      "Accuracy: 100.0 %\n",
      "Precision: 100.0 %\n",
      "Recall: 100.0 %\n",
      "F1-score: 100.0 %\n",
      "no of drifts:  0\n",
      "Wall time: 29.1 s\n"
     ]
    },
    {
     "data": {
      "image/png": "[encoded data removed]",
      "text/plain": [
       "<Figure size 1000x600 with 1 Axes>"
      ]
     },
     "metadata": {},
     "output_type": "display_data"
    }
   ],
   "source": [
    "%%time\n",
    "# Use the Extremely Fast Decision Tree (EFDT) model \n",
    "name = \"EFDT model\"\n",
    "model = tree.ExtremelyFastDecisionTreeClassifier() # Define the model\n",
    "t, m, c = adaptive_learning(X_train, y_train, X_test, y_test, ranking) # Learn the model on the dataset\n",
    "acc_fig(t, m, name) # Draw the figure of how the real-time accuracy changes with the number of samples\n",
    "print(\"no of drifts: \",c)"
   ]
  }
 ],
 "metadata": {
  "kernelspec": {
   "display_name": "Python 3 (ipykernel)",
   "language": "python",
   "name": "python3"
  },
  "language_info": {
   "codemirror_mode": {
    "name": "ipython",
    "version": 3
   },
   "file_extension": ".py",
   "mimetype": "text/x-python",
   "name": "python",
   "nbconvert_exporter": "python",
   "pygments_lexer": "ipython3",
   "version": "3.9.13"
  }
 },
 "nbformat": 4,
 "nbformat_minor": 5
}
